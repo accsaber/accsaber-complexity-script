{
 "cells": [
  {
   "cell_type": "code",
   "execution_count": 207,
   "metadata": {},
   "outputs": [],
   "source": [
    "import pandas as pd\n",
    "import numpy as np\n",
    "import json\n",
    "import math\n",
    "\n",
    "ANGLE_W = 1\n",
    "SPEED_W = 15\n",
    "\n",
    "with open(\"./maps/path/to/level.dat\") as json_data:\n",
    "    data = json.load(json_data)\n",
    "notes = pd.DataFrame(data['_notes'])"
   ]
  },
  {
   "cell_type": "code",
   "execution_count": 208,
   "metadata": {},
   "outputs": [],
   "source": [
    "# Calculate note centers\n",
    "notes['_yCenter'] = notes['_lineLayer'].apply(lambda x: 1 + x * 0.55)\n",
    "notes['_xCenter'] = notes['_lineIndex'].apply(lambda x: -0.9 + x * 0.6)\n",
    "\n",
    "# Split to left and right handed notes\n",
    "left = notes[notes['_type'] == 0].copy()\n",
    "right = notes[notes['_type'] == 1].copy()"
   ]
  },
  {
   "cell_type": "code",
   "execution_count": 209,
   "metadata": {},
   "outputs": [],
   "source": [
    "# Calculate position and angle changes between notes\n",
    "# Each row contains the change between the previous note and itself\n",
    "for df in [left, right]:\n",
    "    df['_xMovement'] = df['_xCenter'].diff()\n",
    "    df['_yMovement'] = df['_yCenter'].diff()\n",
    "    df['_totMovement'] = np.hypot(df['_xMovement'], df['_yMovement'])\n",
    "    df['_angleChange'] = np.arctan(df['_yMovement'] / df['_xMovement'])\n",
    "    df['_timeChange'] = df['_time'].diff()\n",
    "    df[:1] = df[:1].fillna(0) # Set movements and changes to 0 in first row"
   ]
  },
  {
   "cell_type": "code",
   "execution_count": 210,
   "metadata": {},
   "outputs": [
    {
     "name": "stdout",
     "output_type": "stream",
     "text": [
      "15.851200674253983\n"
     ]
    }
   ],
   "source": [
    "average_angle = (left['_angleChange'].abs().mean() + right['_angleChange'].abs().mean()) / 2\n",
    "\n",
    "sum_of_swing_times = left[left['_timeChange'] < 5]['_timeChange'].sum() + right[right['_timeChange'] < 5]['_timeChange'].sum() # In beats\n",
    "total_distance = left[left['_totMovement'] > 0.54]['_totMovement'].sum() + right[right['_totMovement'] > 0.54]['_totMovement'].sum()\n",
    "average_speed = total_distance / sum_of_swing_times\n",
    "\n",
    "complexity = ANGLE_W * average_angle + SPEED_W * average_speed\n",
    "\n",
    "print(complexity)"
   ]
  }
 ],
 "metadata": {
  "kernelspec": {
   "display_name": "base",
   "language": "python",
   "name": "python3"
  },
  "language_info": {
   "codemirror_mode": {
    "name": "ipython",
    "version": 3
   },
   "file_extension": ".py",
   "mimetype": "text/x-python",
   "name": "python",
   "nbconvert_exporter": "python",
   "pygments_lexer": "ipython3",
   "version": "3.9.7 (default, Sep 16 2021, 16:59:28) [MSC v.1916 64 bit (AMD64)]"
  },
  "orig_nbformat": 4,
  "vscode": {
   "interpreter": {
    "hash": "4836aab9230707cf36e93c729ff9a67bdbebd51947e18404ed5a25d63daeec60"
   }
  }
 },
 "nbformat": 4,
 "nbformat_minor": 2
}
